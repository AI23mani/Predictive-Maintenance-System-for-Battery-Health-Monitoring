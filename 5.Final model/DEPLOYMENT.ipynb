{
 "cells": [
  {
   "cell_type": "code",
   "execution_count": 1,
   "id": "16b5cf62-ef28-4a0a-900b-2c1391a76ed6",
   "metadata": {},
   "outputs": [],
   "source": [
    "import pickle"
   ]
  },
  {
   "cell_type": "code",
   "execution_count": 2,
   "id": "6f613a3a-94e1-4955-b6fe-93fd05f8f1e6",
   "metadata": {},
   "outputs": [],
   "source": [
    "# best model\n",
    "filename = \"Decision_tree_BATTERY_final.sav\""
   ]
  },
  {
   "cell_type": "code",
   "execution_count": 3,
   "id": "d7e353ff-32c5-482a-8014-b04dc99a2aef",
   "metadata": {},
   "outputs": [],
   "source": [
    "# Load the saved model\n",
    "loaded_model = pickle.load(open(filename, 'rb'))\n"
   ]
  },
  {
   "cell_type": "markdown",
   "id": "e376c6ef-5d55-432e-84b8-838c1ebd91c9",
   "metadata": {},
   "source": [
    "# Battery input data"
   ]
  },
  {
   "cell_type": "code",
   "execution_count": 7,
   "id": "84b080e0-881d-4904-9a80-ad9e6a45b74b",
   "metadata": {},
   "outputs": [
    {
     "name": "stdin",
     "output_type": "stream",
     "text": [
      "Open Circuit Voltage (V):  9\n",
      "Maintenance History_Neglected:  0\n",
      "Maintenance History_No maintenance:  0\n",
      "Maintenance History_Regular maintenance:  0\n",
      "Acid Level Check_Normal:  0\n"
     ]
    }
   ],
   "source": [
    " def get_categorical_prediction(prediction):\n",
    "    return \"Yes\" if prediction == 1 else \"No\"\n",
    "# Make predictions\n",
    "Open_Circuit_Voltage_input = float(input(\"Open Circuit Voltage (V): \"))\n",
    "Maintenance_History_Neglected_input = float(input(\"Maintenance History_Neglected: \"))\n",
    "Maintenance_History_No_maintenance_input = float(input(\"Maintenance History_No maintenance: \"))\n",
    "Maintenance_History_Regular_maintenance_input = float(input(\"Maintenance History_Regular maintenance: \"))\n",
    "Acid_Level_Check_Normal_input = float(input(\"Acid Level Check_Normal: \"))\n",
    "\n",
    "# Predict the future maintenance requirement\n",
    "future_prediction = loaded_model.predict([[Open_Circuit_Voltage_input,Maintenance_History_Neglected_input,Maintenance_History_No_maintenance_input,Maintenance_History_Regular_maintenance_input,Acid_Level_Check_Normal_input]])\n",
    "\n",
    "# Convert numerical prediction to categorical label\n",
    "future_prediction_categorical = get_categorical_prediction(future_prediction[0])"
   ]
  },
  {
   "cell_type": "markdown",
   "id": "a789e940-592a-4df7-87ca-245ead29b88e",
   "metadata": {},
   "source": [
    "# Maintenance Required"
   ]
  },
  {
   "cell_type": "code",
   "execution_count": 8,
   "id": "70f18352-d125-4415-811f-e52d924afb14",
   "metadata": {},
   "outputs": [
    {
     "name": "stdout",
     "output_type": "stream",
     "text": [
      "Future Prediction (Maintenance Required): Yes\n"
     ]
    }
   ],
   "source": [
    "# Print the categorical prediction\n",
    "print(\"Future Prediction (Maintenance Required):\", future_prediction_categorical)\n"
   ]
  },
  {
   "cell_type": "code",
   "execution_count": null,
   "id": "69ce73ef-99e7-4f1f-8320-f8b3b8532cd0",
   "metadata": {},
   "outputs": [],
   "source": []
  }
 ],
 "metadata": {
  "kernelspec": {
   "display_name": "Python 3 (ipykernel)",
   "language": "python",
   "name": "python3"
  },
  "language_info": {
   "codemirror_mode": {
    "name": "ipython",
    "version": 3
   },
   "file_extension": ".py",
   "mimetype": "text/x-python",
   "name": "python",
   "nbconvert_exporter": "python",
   "pygments_lexer": "ipython3",
   "version": "3.11.7"
  }
 },
 "nbformat": 4,
 "nbformat_minor": 5
}
