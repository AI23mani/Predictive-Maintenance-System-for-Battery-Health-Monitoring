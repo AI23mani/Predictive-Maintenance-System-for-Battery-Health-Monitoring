{
 "cells": [
  {
   "cell_type": "code",
   "execution_count": 1,
   "id": "fb97842b-1bcd-46ab-843b-3d6450af36f8",
   "metadata": {},
   "outputs": [],
   "source": [
    "import numpy as np\n",
    "import matplotlib.pyplot as plt\n",
    "from sklearn.preprocessing import StandardScaler\n",
    "import pandas as pd\n",
    "from sklearn.discriminant_analysis import LinearDiscriminantAnalysis as LDA\n"
   ]
  },
  {
   "cell_type": "code",
   "execution_count": 2,
   "id": "8b26d60f-baba-4573-acb5-9997ee773e1f",
   "metadata": {},
   "outputs": [],
   "source": [
    "def split_scalar(X,y):\n",
    "    from sklearn.model_selection import train_test_split\n",
    "    X_train, X_test, y_train, y_test = train_test_split(X, y, test_size = 0.2, random_state = 0)\n",
    "    sc = StandardScaler()\n",
    "    X_train = sc.fit_transform(X_train)\n",
    "    X_test = sc.transform(X_test)\n",
    "    return X_train,X_test,y_train, y_test\n",
    "\n",
    "def perform_lda(indpen_X,dep_Y,n):\n",
    "    lda = LDA(n_components = n)\n",
    "    X_train = lda.fit_transform(indpen_X,dep_Y)\n",
    "    return lda, X_train\n"
   ]
  },
  {
   "cell_type": "code",
   "execution_count": 3,
   "id": "00fdcabe-4e50-4bda-a1c0-8cb1c126a3bf",
   "metadata": {},
   "outputs": [],
   "source": [
    "def logistic(X_train, y_train,X_test):\n",
    "    from sklearn.linear_model import LogisticRegression\n",
    "    classifier = LogisticRegression(random_state = 0)\n",
    "    classifier.fit(X_train, y_train)\n",
    "    cm,accuracy,classifier = cm_predition(classifier,X_test)\n",
    "    return cm,accuracy,classifier\n",
    "\n",
    "def svm_linear(X_train,y_train,X_test):\n",
    "    from sklearn.svm import SVC\n",
    "    classifier = SVC(kernel = 'linear', random_state = 0)\n",
    "    classifier.fit(X_train, y_train)\n",
    "    cm,accuracy,classifier = cm_predition(classifier,X_test)\n",
    "    return  cm,accuracy,classifier\n",
    "\n",
    "def svm_NL(X_train,y_train,X_test):\n",
    "    from sklearn.svm import SVC\n",
    "    classifier = SVC(kernel = 'rbf', random_state = 0)\n",
    "    classifier.fit(X_train, y_train)\n",
    "    cm,accuracy,classifier = cm_predition(classifier,X_test)\n",
    "    return  cm,accuracy,classifier\n",
    "\n",
    "def Navie(X_train,y_train,X_test):\n",
    "    # Fitting K-NN to the Training set\n",
    "    from sklearn.naive_bayes import GaussianNB\n",
    "    classifier = GaussianNB()\n",
    "    classifier.fit(X_train, y_train)\n",
    "    cm,accuracy,classifier = cm_predition(classifier,X_test)\n",
    "    return  cm,accuracy,classifier\n",
    "\n",
    "\n",
    "def knn(X_train,y_train,X_test):\n",
    "    # Fitting K-NN to the Training set\n",
    "    from sklearn.neighbors import KNeighborsClassifier\n",
    "    classifier = KNeighborsClassifier(n_neighbors = 5, metric = 'minkowski', p = 2)\n",
    "    classifier.fit(X_train, y_train)\n",
    "    cm,accuracy,classifier = cm_predition(classifier,X_test)\n",
    "    return  cm,accuracy,classifier\n",
    "\n",
    "def Decision(X_train,y_train,X_test):\n",
    "    # Fitting K-NN to the Training set\n",
    "    from sklearn.tree import DecisionTreeClassifier\n",
    "    classifier = DecisionTreeClassifier(criterion = 'entropy', random_state = 0)\n",
    "    classifier.fit(X_train, y_train)\n",
    "    cm,accuracy,classifier = cm_predition(classifier,X_test)\n",
    "    return  cm,accuracy,classifier\n",
    "\n",
    "\n",
    "def random(X_train,y_train,X_test):\n",
    "    # Fitting K-NN to the Training set\n",
    "    from sklearn.ensemble import RandomForestClassifier\n",
    "    classifier = RandomForestClassifier(n_estimators = 10, criterion = 'entropy', random_state = 0)\n",
    "    classifier.fit(X_train, y_train)\n",
    "    cm,accuracy,classifier = cm_predition(classifier,X_test)\n",
    "    return  cm,accuracy,classifier\n",
    "\n",
    "def cm_predition (classifier,X_test):\n",
    "    y_pred = classifier.predict(X_test)\n",
    "    from sklearn.metrics import confusion_matrix\n",
    "    cm = confusion_matrix(y_test, y_pred)\n",
    "    from sklearn.metrics import accuracy_score\n",
    "    accuracy= accuracy_score(y_test, y_pred)\n",
    "    return cm,accuracy,classifier"
   ]
  },
  {
   "cell_type": "code",
   "execution_count": 9,
   "id": "4382841a-1787-401b-ad64-6efcdf42c927",
   "metadata": {},
   "outputs": [],
   "source": [
    "def lda_merge(acclog,accsvmlin,accsvmnl,accnav,accknn,accdec,accrand):\n",
    "    dataframe=pd.DataFrame(index=['LDA n=2'],columns=['Logistic','SVMlin','SVMNL','Navie','KNN','DT','RF'])\n",
    "    for number,index in enumerate(dataframe.index):\n",
    "        dataframe['Logistic'][index]=acclog[number]\n",
    "        dataframe['SVMlin'][index]=accsvmlin[number]\n",
    "        dataframe['SVMNL'][index]=accsvmnl[number]\n",
    "        dataframe['Navie'][index]=accnav[number]\n",
    "        dataframe['KNN'][index]=accknn[number]\n",
    "        dataframe['DT'][index]=accdec[number]\n",
    "        dataframe['RF'][index]=accrand[number]\n",
    "    return dataframe"
   ]
  },
  {
   "cell_type": "code",
   "execution_count": 10,
   "id": "e726ca2d-c2d3-4b5c-a4af-a17e5b1b3332",
   "metadata": {},
   "outputs": [],
   "source": [
    "dataset1 = pd.read_csv(\"preprocessed_Battery_data.csv\", index_col=None)\n",
    "df2 = dataset1\n",
    "df2 = pd.get_dummies(df2, drop_first=True)\n",
    "\n",
    "indep_X = df2.drop(['Maintenance Required_Yes', 'Charge Needed_Yes', 'Status_Low Charge', 'Status_Weak Battery'], axis=1)\n",
    "dep_Y = df2['Maintenance Required_Yes']"
   ]
  },
  {
   "cell_type": "code",
   "execution_count": 12,
   "id": "73fe6c45-ef2e-4737-86ce-6f11413704f2",
   "metadata": {},
   "outputs": [
    {
     "name": "stderr",
     "output_type": "stream",
     "text": [
      "C:\\Users\\MANIKA\\Anaconda3\\envs\\aiml\\lib\\site-packages\\sklearn\\discriminant_analysis.py:388: UserWarning: Variables are collinear.\n",
      "  warnings.warn(\"Variables are collinear.\")\n"
     ]
    }
   ],
   "source": [
    "lda, X_train_lda =perform_lda(indep_X,dep_Y,1) # n_components set to 1 for binary classification\n",
    "# created a empty list to append the final value\n",
    "acclog=[]\n",
    "accsvmlin=[]\n",
    "accsvmnl=[]\n",
    "accnav=[]\n",
    "accknn=[]\n",
    "accdec=[]\n",
    "accrand=[]"
   ]
  },
  {
   "cell_type": "code",
   "execution_count": 13,
   "id": "b3597c4e-f77c-4928-a222-44c10576881a",
   "metadata": {},
   "outputs": [
    {
     "name": "stderr",
     "output_type": "stream",
     "text": [
      "C:\\Users\\MANIKA\\Anaconda3\\envs\\aiml\\lib\\site-packages\\sklearn\\linear_model\\logistic.py:432: FutureWarning: Default solver will be changed to 'lbfgs' in 0.22. Specify a solver to silence this warning.\n",
      "  FutureWarning)\n",
      "C:\\Users\\MANIKA\\Anaconda3\\envs\\aiml\\lib\\site-packages\\sklearn\\neighbors\\base.py:441: DeprecationWarning: distutils Version classes are deprecated. Use packaging.version instead.\n",
      "  old_joblib = LooseVersion(joblib_version) < LooseVersion('0.12')\n",
      "C:\\Users\\MANIKA\\Anaconda3\\envs\\aiml\\lib\\site-packages\\sklearn\\neighbors\\base.py:441: DeprecationWarning: distutils Version classes are deprecated. Use packaging.version instead.\n",
      "  old_joblib = LooseVersion(joblib_version) < LooseVersion('0.12')\n",
      "C:\\Users\\MANIKA\\Anaconda3\\envs\\aiml\\lib\\site-packages\\sklearn\\utils\\fixes.py:230: DeprecationWarning: distutils Version classes are deprecated. Use packaging.version instead.\n",
      "  if _joblib.__version__ >= LooseVersion('0.12'):\n",
      "C:\\Users\\MANIKA\\Anaconda3\\envs\\aiml\\lib\\site-packages\\sklearn\\utils\\fixes.py:230: DeprecationWarning: distutils Version classes are deprecated. Use packaging.version instead.\n",
      "  if _joblib.__version__ >= LooseVersion('0.12'):\n"
     ]
    }
   ],
   "source": [
    "X_train, X_test, y_train, y_test=split_scalar(X_train_lda,dep_Y)\n",
    "\n",
    "cm,accuracy,classifier=logistic(X_train,y_train,X_test)\n",
    "acclog.append(accuracy)\n",
    "\n",
    "cm,accuracy,classifier=svm_linear(X_train,y_train,X_test)\n",
    "accsvmlin.append(accuracy)\n",
    "\n",
    "cm,accuracy,classifier=svm_NL(X_train,y_train,X_test)\n",
    "accsvmnl.append(accuracy)\n",
    "\n",
    "cm,accuracy,classifier=Navie(X_train,y_train,X_test)\n",
    "accnav.append(accuracy)\n",
    "\n",
    "cm,accuracy,classifier=knn(X_train,y_train,X_test)\n",
    "accknn.append(accuracy)\n",
    "\n",
    "cm,accuracy,classifier=Decision(X_train,y_train,X_test)\n",
    "accdec.append(accuracy)\n",
    "\n",
    "cm,accuracy,classifier=random(X_train,y_train,X_test)\n",
    "accrand.append(accuracy)\n",
    "    \n",
    "result =lda_merge(acclog,accsvmlin,accsvmnl,accnav,accknn,accdec,accrand)"
   ]
  },
  {
   "cell_type": "code",
   "execution_count": 14,
   "id": "f38b9053-5278-40b4-af5c-cd2508d07f1f",
   "metadata": {},
   "outputs": [
    {
     "data": {
      "text/html": [
       "<div>\n",
       "<style scoped>\n",
       "    .dataframe tbody tr th:only-of-type {\n",
       "        vertical-align: middle;\n",
       "    }\n",
       "\n",
       "    .dataframe tbody tr th {\n",
       "        vertical-align: top;\n",
       "    }\n",
       "\n",
       "    .dataframe thead th {\n",
       "        text-align: right;\n",
       "    }\n",
       "</style>\n",
       "<table border=\"1\" class=\"dataframe\">\n",
       "  <thead>\n",
       "    <tr style=\"text-align: right;\">\n",
       "      <th></th>\n",
       "      <th>Logistic</th>\n",
       "      <th>SVMlin</th>\n",
       "      <th>SVMNL</th>\n",
       "      <th>Navie</th>\n",
       "      <th>KNN</th>\n",
       "      <th>DT</th>\n",
       "      <th>RF</th>\n",
       "    </tr>\n",
       "  </thead>\n",
       "  <tbody>\n",
       "    <tr>\n",
       "      <th>LDA n=2</th>\n",
       "      <td>1</td>\n",
       "      <td>1</td>\n",
       "      <td>1</td>\n",
       "      <td>1</td>\n",
       "      <td>1</td>\n",
       "      <td>1</td>\n",
       "      <td>1</td>\n",
       "    </tr>\n",
       "  </tbody>\n",
       "</table>\n",
       "</div>"
      ],
      "text/plain": [
       "        Logistic SVMlin SVMNL Navie KNN DT RF\n",
       "LDA n=2        1      1     1     1   1  1  1"
      ]
     },
     "execution_count": 14,
     "metadata": {},
     "output_type": "execute_result"
    }
   ],
   "source": [
    "result"
   ]
  },
  {
   "cell_type": "code",
   "execution_count": null,
   "id": "c1d7f667-1f0e-4644-b348-d1aa122258df",
   "metadata": {},
   "outputs": [],
   "source": []
  }
 ],
 "metadata": {
  "kernelspec": {
   "display_name": "Python 3 (ipykernel)",
   "language": "python",
   "name": "python3"
  },
  "language_info": {
   "codemirror_mode": {
    "name": "ipython",
    "version": 3
   },
   "file_extension": ".py",
   "mimetype": "text/x-python",
   "name": "python",
   "nbconvert_exporter": "python",
   "pygments_lexer": "ipython3",
   "version": "3.7.6"
  }
 },
 "nbformat": 4,
 "nbformat_minor": 5
}
