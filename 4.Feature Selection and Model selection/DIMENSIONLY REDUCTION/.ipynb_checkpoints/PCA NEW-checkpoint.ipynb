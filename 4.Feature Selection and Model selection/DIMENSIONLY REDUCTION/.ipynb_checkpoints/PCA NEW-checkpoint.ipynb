{
 "cells": [
  {
   "cell_type": "code",
   "execution_count": 41,
   "id": "78cfc289-d966-4e33-934c-eb4af9a0f0db",
   "metadata": {},
   "outputs": [],
   "source": [
    "from sklearn.decomposition import PCA\n",
    "import pandas as pd\n",
    "from sklearn.model_selection import train_test_split \n",
    "import numpy as np\n",
    "from sklearn.preprocessing import StandardScaler\n",
    "from sklearn.linear_model import LogisticRegression\n",
    "import pickle\n",
    "import matplotlib.pyplot as plt\n"
   ]
  },
  {
   "cell_type": "code",
   "execution_count": 42,
   "id": "3d2a2035-3c6c-45c5-90a2-89677645203f",
   "metadata": {},
   "outputs": [],
   "source": [
    "def pca(indep_X,n):\n",
    "    from sklearn.decomposition import PCA\n",
    "    pca = PCA(n_components=n)\n",
    "    X_train = pca.fit_transform(indep_X)\n",
    "    return pca, X_train"
   ]
  },
  {
   "cell_type": "code",
   "execution_count": 43,
   "id": "fb620fd2-7477-4a0a-b910-cbb2700b18b6",
   "metadata": {},
   "outputs": [],
   "source": [
    "\n",
    "def split_scalar(indep_X,dep_Y):\n",
    "        X_train, X_test, y_train, y_test = train_test_split(indep_X, dep_Y, test_size = 0.25, random_state = 0)\n",
    "        sc = StandardScaler()\n",
    "        X_train = sc.fit_transform(X_train)\n",
    "        X_test = sc.transform(X_test)    \n",
    "        return X_train, X_test, y_train, y_test"
   ]
  },
  {
   "cell_type": "code",
   "execution_count": 44,
   "id": "0e429882-588c-441a-8e38-9acf1f3f82d9",
   "metadata": {},
   "outputs": [],
   "source": [
    "def cm_predition (classifier,X_test):\n",
    "    y_pred = classifier.predict(X_test)\n",
    "    from sklearn.metrics import confusion_matrix\n",
    "    cm = confusion_matrix(y_test, y_pred)\n",
    "    from sklearn.metrics import accuracy_score\n",
    "    accuracy= accuracy_score(y_test, y_pred)\n",
    "    return cm,accuracy,classifier"
   ]
  },
  {
   "cell_type": "code",
   "execution_count": 45,
   "id": "ea61ac60-7be3-4d74-b2f7-2d45e6c1772f",
   "metadata": {},
   "outputs": [],
   "source": [
    "def logistic(X_train, y_train,X_test):\n",
    "    from sklearn.linear_model import LogisticRegression\n",
    "    classifier = LogisticRegression(random_state = 0)\n",
    "    classifier.fit(X_train, y_train)\n",
    "    cm,accuracy,classifier = cm_predition(classifier,X_test)\n",
    "    return cm,accuracy,classifier\n",
    "\n",
    "def svm_linear(X_train,y_train,X_test):\n",
    "    from sklearn.svm import SVC\n",
    "    classifier = SVC(kernel = 'linear', random_state = 0)\n",
    "    classifier.fit(X_train, y_train)\n",
    "    cm,accuracy,classifier = cm_predition(classifier,X_test)\n",
    "    return  cm,accuracy,classifier\n",
    "\n",
    "def svm_NL(X_train,y_train,X_test):\n",
    "    from sklearn.svm import SVC\n",
    "    classifier = SVC(kernel = 'rbf', random_state = 0)\n",
    "    classifier.fit(X_train, y_train)\n",
    "    cm,accuracy,classifier = cm_predition(classifier,X_test)\n",
    "    return  cm,accuracy,classifier\n",
    "\n",
    "def Navie(X_train,y_train,X_test):\n",
    "    # Fitting K-NN to the Training set\n",
    "    from sklearn.naive_bayes import GaussianNB\n",
    "    classifier = GaussianNB()\n",
    "    classifier.fit(X_train, y_train)\n",
    "    cm,accuracy,classifier = cm_predition(classifier,X_test)\n",
    "    return  cm,accuracy,classifier\n",
    "\n",
    "\n",
    "def knn(X_train,y_train,X_test):\n",
    "    # Fitting K-NN to the Training set\n",
    "    from sklearn.neighbors import KNeighborsClassifier\n",
    "    classifier = KNeighborsClassifier(n_neighbors = 5, metric = 'minkowski', p = 2)\n",
    "    classifier.fit(X_train, y_train)\n",
    "    cm,accuracy,classifier = cm_predition(classifier,X_test)\n",
    "    return  cm,accuracy,classifier\n",
    "\n",
    "def Decision(X_train,y_train,X_test):\n",
    "    # Fitting K-NN to the Training set\n",
    "    from sklearn.tree import DecisionTreeClassifier\n",
    "    classifier = DecisionTreeClassifier(criterion = 'entropy', random_state = 0)\n",
    "    classifier.fit(X_train, y_train)\n",
    "    cm,accuracy,classifier = cm_predition(classifier,X_test)\n",
    "    return  cm,accuracy,classifier\n",
    "\n",
    "\n",
    "def random(X_train,y_train,X_test):\n",
    "    # Fitting K-NN to the Training set\n",
    "    from sklearn.ensemble import RandomForestClassifier\n",
    "    classifier = RandomForestClassifier(n_estimators = 10, criterion = 'entropy', random_state = 0)\n",
    "    classifier.fit(X_train, y_train)\n",
    "    cm,accuracy,classifier = cm_predition(classifier,X_test)\n",
    "    return  cm,accuracy,classifier\n"
   ]
  },
  {
   "cell_type": "code",
   "execution_count": 46,
   "id": "13bbfa55-3ffd-48c3-bc52-f7d42a423c64",
   "metadata": {},
   "outputs": [],
   "source": [
    "def pca_classifier(acclog,accsvmlin,accsvmnl,accnav,accknn,accdec,accrand):\n",
    "    dataframe=pd.DataFrame(index=['PCA n=2'],columns=['Logistic','SVMlin','SVMNL','Navie','KNN','DT','RF'])\n",
    "    for number,index in enumerate(dataframe.index):\n",
    "        dataframe['Logistic'][index]=acclog[number]\n",
    "        dataframe['SVMlin'][index]=accsvmlin[number]\n",
    "        dataframe['SVMNL'][index]=accsvmnl[number]\n",
    "        dataframe['Navie'][index]=accnav[number]\n",
    "        dataframe['KNN'][index]=accknn[number]\n",
    "        dataframe['DT'][index]=accdec[number]\n",
    "        dataframe['RF'][index]=accrand[number]\n",
    "    return dataframe\n",
    "    \n"
   ]
  },
  {
   "cell_type": "code",
   "execution_count": 47,
   "id": "0e3f5196-99e8-48b5-b4cf-af6a91afccd7",
   "metadata": {},
   "outputs": [],
   "source": [
    "dataset1 = pd.read_csv(\"preprocessed_Battery_data.csv\", index_col=None)\n",
    "df2 = dataset1\n",
    "df2 = pd.get_dummies(df2, drop_first=True)\n",
    "\n",
    "indep_X = df2.drop(['Maintenance Required_Yes', 'Charge Needed_Yes', 'Status_Low Charge', 'Status_Weak Battery'], axis=1)\n",
    "dep_Y = df2['Maintenance Required_Yes']"
   ]
  },
  {
   "cell_type": "code",
   "execution_count": 48,
   "id": "2d3fd353-b25b-4a3b-b0ba-39fb8d3b0708",
   "metadata": {},
   "outputs": [],
   "source": [
    "pca,PCA= pca(indep_X,2)\n",
    "acclog=[]\n",
    "accsvmlin=[]\n",
    "accsvmnl=[]\n",
    "accnav=[]\n",
    "accknn=[]\n",
    "accdec=[]\n",
    "accrand=[]"
   ]
  },
  {
   "cell_type": "code",
   "execution_count": 49,
   "id": "20e7d9f4-b9c3-4d00-aa65-7d1aa25f6c95",
   "metadata": {},
   "outputs": [
    {
     "name": "stderr",
     "output_type": "stream",
     "text": [
      "C:\\Users\\MANIKA\\Anaconda3\\envs\\aiml\\lib\\site-packages\\sklearn\\linear_model\\logistic.py:432: FutureWarning: Default solver will be changed to 'lbfgs' in 0.22. Specify a solver to silence this warning.\n",
      "  FutureWarning)\n",
      "C:\\Users\\MANIKA\\Anaconda3\\envs\\aiml\\lib\\site-packages\\sklearn\\neighbors\\base.py:441: DeprecationWarning: distutils Version classes are deprecated. Use packaging.version instead.\n",
      "  old_joblib = LooseVersion(joblib_version) < LooseVersion('0.12')\n",
      "C:\\Users\\MANIKA\\Anaconda3\\envs\\aiml\\lib\\site-packages\\sklearn\\neighbors\\base.py:441: DeprecationWarning: distutils Version classes are deprecated. Use packaging.version instead.\n",
      "  old_joblib = LooseVersion(joblib_version) < LooseVersion('0.12')\n",
      "C:\\Users\\MANIKA\\Anaconda3\\envs\\aiml\\lib\\site-packages\\sklearn\\utils\\fixes.py:230: DeprecationWarning: distutils Version classes are deprecated. Use packaging.version instead.\n",
      "  if _joblib.__version__ >= LooseVersion('0.12'):\n",
      "C:\\Users\\MANIKA\\Anaconda3\\envs\\aiml\\lib\\site-packages\\sklearn\\utils\\fixes.py:230: DeprecationWarning: distutils Version classes are deprecated. Use packaging.version instead.\n",
      "  if _joblib.__version__ >= LooseVersion('0.12'):\n"
     ]
    }
   ],
   "source": [
    "X_train, X_test, y_train, y_test=split_scalar(PCA,dep_Y)   \n",
    "    \n",
    "        \n",
    "cm,accuracy,classifier=logistic(X_train,y_train,X_test)\n",
    "acclog.append(accuracy)\n",
    "\n",
    "cm,accuracy,classifier=svm_linear(X_train,y_train,X_test)\n",
    "accsvmlin.append(accuracy)\n",
    "\n",
    "cm,accuracy,classifier=svm_NL(X_train,y_train,X_test)\n",
    "accsvmnl.append(accuracy)\n",
    "\n",
    "cm,accuracy,classifier=Navie(X_train,y_train,X_test)\n",
    "accnav.append(accuracy)\n",
    "\n",
    "cm,accuracy,classifier=knn(X_train,y_train,X_test)\n",
    "accknn.append(accuracy)\n",
    "\n",
    "cm,accuracy,classifier=Decision(X_train,y_train,X_test)\n",
    "accdec.append(accuracy)\n",
    "\n",
    "cm,accuracy,classifier=random(X_train,y_train,X_test)\n",
    "accrand.append(accuracy)\n",
    "    \n",
    "result=pca_classifier(acclog,accsvmlin,accsvmnl,accnav,accknn,accdec,accrand)"
   ]
  },
  {
   "cell_type": "code",
   "execution_count": 20,
   "id": "7a709158-5fcf-40d4-9b6e-c04195786473",
   "metadata": {},
   "outputs": [
    {
     "data": {
      "text/html": [
       "<div>\n",
       "<style scoped>\n",
       "    .dataframe tbody tr th:only-of-type {\n",
       "        vertical-align: middle;\n",
       "    }\n",
       "\n",
       "    .dataframe tbody tr th {\n",
       "        vertical-align: top;\n",
       "    }\n",
       "\n",
       "    .dataframe thead th {\n",
       "        text-align: right;\n",
       "    }\n",
       "</style>\n",
       "<table border=\"1\" class=\"dataframe\">\n",
       "  <thead>\n",
       "    <tr style=\"text-align: right;\">\n",
       "      <th></th>\n",
       "      <th>Logistic</th>\n",
       "      <th>SVMlin</th>\n",
       "      <th>SVMNL</th>\n",
       "      <th>Navie</th>\n",
       "      <th>KNN</th>\n",
       "      <th>DT</th>\n",
       "      <th>RF</th>\n",
       "    </tr>\n",
       "  </thead>\n",
       "  <tbody>\n",
       "    <tr>\n",
       "      <th>PCA n=6</th>\n",
       "      <td>1</td>\n",
       "      <td>1</td>\n",
       "      <td>1</td>\n",
       "      <td>1</td>\n",
       "      <td>1</td>\n",
       "      <td>0.933333</td>\n",
       "      <td>1</td>\n",
       "    </tr>\n",
       "  </tbody>\n",
       "</table>\n",
       "</div>"
      ],
      "text/plain": [
       "        Logistic SVMlin SVMNL Navie KNN        DT RF\n",
       "PCA n=6        1      1     1     1   1  0.933333  1"
      ]
     },
     "execution_count": 20,
     "metadata": {},
     "output_type": "execute_result"
    }
   ],
   "source": [
    "result #value n=6"
   ]
  },
  {
   "cell_type": "code",
   "execution_count": 10,
   "id": "faf2627d-1e04-4305-ab4b-a2f8c79ce944",
   "metadata": {},
   "outputs": [
    {
     "data": {
      "text/html": [
       "<div>\n",
       "<style scoped>\n",
       "    .dataframe tbody tr th:only-of-type {\n",
       "        vertical-align: middle;\n",
       "    }\n",
       "\n",
       "    .dataframe tbody tr th {\n",
       "        vertical-align: top;\n",
       "    }\n",
       "\n",
       "    .dataframe thead th {\n",
       "        text-align: right;\n",
       "    }\n",
       "</style>\n",
       "<table border=\"1\" class=\"dataframe\">\n",
       "  <thead>\n",
       "    <tr style=\"text-align: right;\">\n",
       "      <th></th>\n",
       "      <th>Logistic</th>\n",
       "      <th>SVMlin</th>\n",
       "      <th>SVMNL</th>\n",
       "      <th>Navie</th>\n",
       "      <th>KNN</th>\n",
       "      <th>DT</th>\n",
       "      <th>RF</th>\n",
       "    </tr>\n",
       "  </thead>\n",
       "  <tbody>\n",
       "    <tr>\n",
       "      <th>PCA n=5</th>\n",
       "      <td>1</td>\n",
       "      <td>1</td>\n",
       "      <td>1</td>\n",
       "      <td>0.933333</td>\n",
       "      <td>1</td>\n",
       "      <td>0.933333</td>\n",
       "      <td>1</td>\n",
       "    </tr>\n",
       "  </tbody>\n",
       "</table>\n",
       "</div>"
      ],
      "text/plain": [
       "        Logistic SVMlin SVMNL     Navie KNN        DT RF\n",
       "PCA n=5        1      1     1  0.933333   1  0.933333  1"
      ]
     },
     "execution_count": 10,
     "metadata": {},
     "output_type": "execute_result"
    }
   ],
   "source": [
    " result#5"
   ]
  },
  {
   "cell_type": "code",
   "execution_count": 30,
   "id": "3b85fd69-2243-44dd-a779-7655bbb5426d",
   "metadata": {},
   "outputs": [
    {
     "data": {
      "text/html": [
       "<div>\n",
       "<style scoped>\n",
       "    .dataframe tbody tr th:only-of-type {\n",
       "        vertical-align: middle;\n",
       "    }\n",
       "\n",
       "    .dataframe tbody tr th {\n",
       "        vertical-align: top;\n",
       "    }\n",
       "\n",
       "    .dataframe thead th {\n",
       "        text-align: right;\n",
       "    }\n",
       "</style>\n",
       "<table border=\"1\" class=\"dataframe\">\n",
       "  <thead>\n",
       "    <tr style=\"text-align: right;\">\n",
       "      <th></th>\n",
       "      <th>Logistic</th>\n",
       "      <th>SVMlin</th>\n",
       "      <th>SVMNL</th>\n",
       "      <th>Navie</th>\n",
       "      <th>KNN</th>\n",
       "      <th>DT</th>\n",
       "      <th>RF</th>\n",
       "    </tr>\n",
       "  </thead>\n",
       "  <tbody>\n",
       "    <tr>\n",
       "      <th>PCA n=4</th>\n",
       "      <td>0.933333</td>\n",
       "      <td>0.933333</td>\n",
       "      <td>0.933333</td>\n",
       "      <td>1</td>\n",
       "      <td>0.933333</td>\n",
       "      <td>1</td>\n",
       "      <td>1</td>\n",
       "    </tr>\n",
       "  </tbody>\n",
       "</table>\n",
       "</div>"
      ],
      "text/plain": [
       "         Logistic    SVMlin     SVMNL Navie       KNN DT RF\n",
       "PCA n=4  0.933333  0.933333  0.933333     1  0.933333  1  1"
      ]
     },
     "execution_count": 30,
     "metadata": {},
     "output_type": "execute_result"
    }
   ],
   "source": [
    " result#4"
   ]
  },
  {
   "cell_type": "code",
   "execution_count": 40,
   "id": "4bb93267-8864-45d6-9b29-35ac5ced3bdf",
   "metadata": {},
   "outputs": [
    {
     "data": {
      "text/html": [
       "<div>\n",
       "<style scoped>\n",
       "    .dataframe tbody tr th:only-of-type {\n",
       "        vertical-align: middle;\n",
       "    }\n",
       "\n",
       "    .dataframe tbody tr th {\n",
       "        vertical-align: top;\n",
       "    }\n",
       "\n",
       "    .dataframe thead th {\n",
       "        text-align: right;\n",
       "    }\n",
       "</style>\n",
       "<table border=\"1\" class=\"dataframe\">\n",
       "  <thead>\n",
       "    <tr style=\"text-align: right;\">\n",
       "      <th></th>\n",
       "      <th>Logistic</th>\n",
       "      <th>SVMlin</th>\n",
       "      <th>SVMNL</th>\n",
       "      <th>Navie</th>\n",
       "      <th>KNN</th>\n",
       "      <th>DT</th>\n",
       "      <th>RF</th>\n",
       "    </tr>\n",
       "  </thead>\n",
       "  <tbody>\n",
       "    <tr>\n",
       "      <th>PCA n=3</th>\n",
       "      <td>0.933333</td>\n",
       "      <td>0.933333</td>\n",
       "      <td>0.933333</td>\n",
       "      <td>0.933333</td>\n",
       "      <td>1</td>\n",
       "      <td>0.866667</td>\n",
       "      <td>0.933333</td>\n",
       "    </tr>\n",
       "  </tbody>\n",
       "</table>\n",
       "</div>"
      ],
      "text/plain": [
       "         Logistic    SVMlin     SVMNL     Navie KNN        DT        RF\n",
       "PCA n=3  0.933333  0.933333  0.933333  0.933333   1  0.866667  0.933333"
      ]
     },
     "execution_count": 40,
     "metadata": {},
     "output_type": "execute_result"
    }
   ],
   "source": [
    " result#3"
   ]
  },
  {
   "cell_type": "code",
   "execution_count": 50,
   "id": "a2441ae1-957a-427f-a78e-304d3ef9d376",
   "metadata": {},
   "outputs": [
    {
     "data": {
      "text/html": [
       "<div>\n",
       "<style scoped>\n",
       "    .dataframe tbody tr th:only-of-type {\n",
       "        vertical-align: middle;\n",
       "    }\n",
       "\n",
       "    .dataframe tbody tr th {\n",
       "        vertical-align: top;\n",
       "    }\n",
       "\n",
       "    .dataframe thead th {\n",
       "        text-align: right;\n",
       "    }\n",
       "</style>\n",
       "<table border=\"1\" class=\"dataframe\">\n",
       "  <thead>\n",
       "    <tr style=\"text-align: right;\">\n",
       "      <th></th>\n",
       "      <th>Logistic</th>\n",
       "      <th>SVMlin</th>\n",
       "      <th>SVMNL</th>\n",
       "      <th>Navie</th>\n",
       "      <th>KNN</th>\n",
       "      <th>DT</th>\n",
       "      <th>RF</th>\n",
       "    </tr>\n",
       "  </thead>\n",
       "  <tbody>\n",
       "    <tr>\n",
       "      <th>PCA n=2</th>\n",
       "      <td>0.8</td>\n",
       "      <td>0.8</td>\n",
       "      <td>0.933333</td>\n",
       "      <td>0.933333</td>\n",
       "      <td>0.933333</td>\n",
       "      <td>1</td>\n",
       "      <td>0.933333</td>\n",
       "    </tr>\n",
       "  </tbody>\n",
       "</table>\n",
       "</div>"
      ],
      "text/plain": [
       "        Logistic SVMlin     SVMNL     Navie       KNN DT        RF\n",
       "PCA n=2      0.8    0.8  0.933333  0.933333  0.933333  1  0.933333"
      ]
     },
     "execution_count": 50,
     "metadata": {},
     "output_type": "execute_result"
    }
   ],
   "source": [
    " result#2"
   ]
  },
  {
   "cell_type": "code",
   "execution_count": null,
   "id": "16acd3e4-c587-4528-b8db-eab70be7813a",
   "metadata": {},
   "outputs": [],
   "source": []
  }
 ],
 "metadata": {
  "kernelspec": {
   "display_name": "Python 3 (ipykernel)",
   "language": "python",
   "name": "python3"
  },
  "language_info": {
   "codemirror_mode": {
    "name": "ipython",
    "version": 3
   },
   "file_extension": ".py",
   "mimetype": "text/x-python",
   "name": "python",
   "nbconvert_exporter": "python",
   "pygments_lexer": "ipython3",
   "version": "3.7.6"
  }
 },
 "nbformat": 4,
 "nbformat_minor": 5
}
